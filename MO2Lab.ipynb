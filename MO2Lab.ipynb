{
 "cells": [
  {
   "cell_type": "code",
   "execution_count": 1,
   "id": "46187826-959a-4486-8e87-752033a2ca34",
   "metadata": {},
   "outputs": [
    {
     "name": "stdin",
     "output_type": "stream",
     "text": [
      "Enter student's last name (ZZZ to quit):  Sorrell\n",
      "Enter student's first name:  Seth\n",
      "Enter student's GPA:  3.7\n"
     ]
    },
    {
     "name": "stdout",
     "output_type": "stream",
     "text": [
      "Seth Sorrell has made the Dean's List!\n"
     ]
    },
    {
     "name": "stdin",
     "output_type": "stream",
     "text": [
      "Enter student's last name (ZZZ to quit):  ZZZ\n"
     ]
    },
    {
     "name": "stdout",
     "output_type": "stream",
     "text": [
      "Program terminated.\n"
     ]
    }
   ],
   "source": [
    "# Name: [Your Name]\n",
    "# File Name: student_gpa_tracker.ipynb\n",
    "# Description: This app accepts student names and GPAs, then determines if they qualify \n",
    "# for the Dean's List (GPA >= 3.5) or Honor Roll (GPA >= 3.25). The program continues \n",
    "# until 'ZZZ' is entered as a last name.\n",
    "\n",
    "from IPython.display import clear_output\n",
    "\n",
    "def process_student():\n",
    "    while True:\n",
    "        # Get student's last name\n",
    "        last_name = input(\"Enter student's last name (ZZZ to quit): \")\n",
    "        \n",
    "        # Check if user wants to quit\n",
    "        if last_name.upper() == \"ZZZ\":\n",
    "            print(\"Program terminated.\")\n",
    "            break\n",
    "        \n",
    "        # Get student's first name and GPA\n",
    "        first_name = input(\"Enter student's first name: \")\n",
    "        try:\n",
    "            gpa = float(input(\"Enter student's GPA: \"))\n",
    "            \n",
    "            # Validate GPA is within reasonable range\n",
    "            if gpa < 0 or gpa > 4.0:\n",
    "                print(\"Error: GPA must be between 0.0 and 4.0\")\n",
    "                continue\n",
    "                \n",
    "            # Check for Dean's List (GPA >= 3.5)\n",
    "            if gpa >= 3.5:\n",
    "                print(f\"{first_name} {last_name} has made the Dean's List!\")\n",
    "            # Check for Honor Roll (GPA >= 3.25)\n",
    "            elif gpa >= 3.25:\n",
    "                print(f\"{first_name} {last_name} has made the Honor Roll!\")\n",
    "            else:\n",
    "                print(f\"{first_name} {last_name} did not qualify for academic honors.\")\n",
    "                \n",
    "            # Optional: Clear output to keep notebook clean (uncomment if desired)\n",
    "            # clear_output(wait=True)\n",
    "            \n",
    "        except ValueError:\n",
    "            print(\"Error: Please enter a valid numeric GPA\")\n",
    "            continue\n",
    "\n",
    "# Run the program\n",
    "process_student()"
   ]
  },
  {
   "cell_type": "code",
   "execution_count": null,
   "id": "19f9ef49-1c77-4c72-8f8a-32a9a93d6b48",
   "metadata": {},
   "outputs": [],
   "source": []
  }
 ],
 "metadata": {
  "kernelspec": {
   "display_name": "Python 3 (ipykernel)",
   "language": "python",
   "name": "python3"
  },
  "language_info": {
   "codemirror_mode": {
    "name": "ipython",
    "version": 3
   },
   "file_extension": ".py",
   "mimetype": "text/x-python",
   "name": "python",
   "nbconvert_exporter": "python",
   "pygments_lexer": "ipython3",
   "version": "3.12.4"
  }
 },
 "nbformat": 4,
 "nbformat_minor": 5
}
